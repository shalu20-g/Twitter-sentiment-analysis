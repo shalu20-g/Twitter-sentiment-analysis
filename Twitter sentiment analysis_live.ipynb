{
 "cells": [
  {
   "cell_type": "code",
   "execution_count": null,
   "id": "1bbd0be7",
   "metadata": {},
   "outputs": [],
   "source": [
    "import pandas as pd\n",
    "import numpy as np\n",
    "import re\n",
    "import seaborn as sns\n",
    "import matplotlib.pyplot as plt\n",
    "from matplotlib import style\n",
    "style.use('ggplot')\n",
    "from textblob import TextBlob\n",
    "from nltk.tokenize import word_tokenize\n",
    "from nltk.stem import PorterStemmer\n",
    "from nltk.corpus import stopwords\n",
    "stop_words = set(stopwords.words('english'))\n",
    "from wordcloud import WordCloud\n",
    "from sklearn.feature_extraction.text import CountVectorizer\n",
    "from sklearn.model_selection import train_test_split\n",
    "from sklearn.linear_model import LogisticRegression\n",
    "from sklearn.metrics import accuracy_score, classification_report, confusion_matrix, ConfusionMatrixDisplay"
   ]
  },
  {
   "cell_type": "code",
   "execution_count": null,
   "id": "7df571f4",
   "metadata": {
    "jupyter": {
     "source_hidden": true
    }
   },
   "outputs": [],
   "source": [
    "df = pd.read_csv('vaccination_tweets.csv')"
   ]
  },
  {
   "cell_type": "code",
   "execution_count": null,
   "id": "4a4ce8f5",
   "metadata": {},
   "outputs": [],
   "source": [
    "df.head()"
   ]
  },
  {
   "cell_type": "code",
   "execution_count": null,
   "id": "d5631d91",
   "metadata": {},
   "outputs": [],
   "source": [
    "df.info()"
   ]
  },
  {
   "cell_type": "code",
   "execution_count": null,
   "id": "1e6bd0eb",
   "metadata": {},
   "outputs": [],
   "source": [
    "df.isnull().sum()"
   ]
  },
  {
   "cell_type": "code",
   "execution_count": null,
   "id": "bd17be94",
   "metadata": {},
   "outputs": [],
   "source": [
    "df.columns"
   ]
  },
  {
   "cell_type": "code",
   "execution_count": null,
   "id": "85dc8421",
   "metadata": {},
   "outputs": [],
   "source": [
    "text_df = df.drop(['id', 'user_name', 'user_location', 'user_description', 'user_created',\n",
    "       'user_followers', 'user_friends', 'user_favourites', 'user_verified',\n",
    "       'date', 'hashtags', 'source', 'retweets', 'favorites',\n",
    "       'is_retweet'], axis=1)\n",
    "text_df.head()"
   ]
  },
  {
   "cell_type": "code",
   "execution_count": null,
   "id": "0967365f",
   "metadata": {},
   "outputs": [],
   "source": [
    "print(text_df['text'].iloc[0],\"\\n\")\n",
    "print(text_df['text'].iloc[1],\"\\n\")\n",
    "print(text_df['text'].iloc[2],\"\\n\")\n",
    "print(text_df['text'].iloc[3],\"\\n\")\n",
    "print(text_df['text'].iloc[4],\"\\n\")"
   ]
  },
  {
   "cell_type": "code",
   "execution_count": null,
   "id": "f66086c4",
   "metadata": {},
   "outputs": [],
   "source": [
    "text_df.info()"
   ]
  },
  {
   "cell_type": "code",
   "execution_count": null,
   "id": "8583ad36",
   "metadata": {},
   "outputs": [],
   "source": [
    "def data_processing(text):\n",
    "    text = text.lower()\n",
    "    text = re.sub(r\"https\\S+|www\\S+https\\S+\", '',text, flags=re.MULTILINE)\n",
    "    text = re.sub(r'\\@w+|\\#','',text)\n",
    "    text = re.sub(r'[^\\w\\s]','',text)\n",
    "    text_tokens = word_tokenize(text)\n",
    "    filtered_text = [w for w in text_tokens if not w in stop_words]\n",
    "    return \" \".join(filtered_text)"
   ]
  },
  {
   "cell_type": "code",
   "execution_count": null,
   "id": "fe4f00de",
   "metadata": {},
   "outputs": [],
   "source": [
    "text_df.text = text_df['text'].apply(data_processing)"
   ]
  },
  {
   "cell_type": "code",
   "execution_count": null,
   "id": "f013674c",
   "metadata": {},
   "outputs": [],
   "source": [
    "text_df = text_df.drop_duplicates('text')"
   ]
  },
  {
   "cell_type": "code",
   "execution_count": null,
   "id": "68016c41",
   "metadata": {},
   "outputs": [],
   "source": [
    "stemmer = PorterStemmer()\n",
    "def stemming(data):\n",
    "    text = [stemmer.stem(word) for word in data]\n",
    "    return data"
   ]
  },
  {
   "cell_type": "code",
   "execution_count": null,
   "id": "da79f826",
   "metadata": {},
   "outputs": [],
   "source": [
    "text_df['text'] = text_df['text'].apply(lambda x: stemming(x))"
   ]
  },
  {
   "cell_type": "code",
   "execution_count": null,
   "id": "c1516441",
   "metadata": {},
   "outputs": [],
   "source": [
    "text_df.head()"
   ]
  },
  {
   "cell_type": "code",
   "execution_count": null,
   "id": "aa66d973",
   "metadata": {},
   "outputs": [],
   "source": [
    "print(text_df['text'].iloc[0],\"\\n\")\n",
    "print(text_df['text'].iloc[1],\"\\n\")\n",
    "print(text_df['text'].iloc[2],\"\\n\")\n",
    "print(text_df['text'].iloc[3],\"\\n\")\n",
    "print(text_df['text'].iloc[4],\"\\n\")"
   ]
  },
  {
   "cell_type": "code",
   "execution_count": null,
   "id": "f8808ad2",
   "metadata": {},
   "outputs": [],
   "source": [
    "text_df.info()"
   ]
  },
  {
   "cell_type": "code",
   "execution_count": null,
   "id": "da47f85d",
   "metadata": {},
   "outputs": [],
   "source": [
    "def polarity(text):\n",
    "    return TextBlob(text).sentiment.polarity"
   ]
  },
  {
   "cell_type": "code",
   "execution_count": null,
   "id": "fd7cfbf1",
   "metadata": {},
   "outputs": [],
   "source": [
    "text_df['polarity'] = text_df['text'].apply(polarity)"
   ]
  },
  {
   "cell_type": "code",
   "execution_count": null,
   "id": "27c87c0c",
   "metadata": {},
   "outputs": [],
   "source": [
    "text_df.head(10)"
   ]
  },
  {
   "cell_type": "code",
   "execution_count": null,
   "id": "8908e4d3",
   "metadata": {},
   "outputs": [],
   "source": [
    "def sentiment(label):\n",
    "    if label <0:\n",
    "        return \"Negative\"\n",
    "    elif label ==0:\n",
    "        return \"Neutral\"\n",
    "    elif label>0:\n",
    "        return \"Positive\""
   ]
  },
  {
   "cell_type": "code",
   "execution_count": null,
   "id": "de5d4170",
   "metadata": {},
   "outputs": [],
   "source": [
    "text_df['sentiment'] = text_df['polarity'].apply(sentiment)"
   ]
  },
  {
   "cell_type": "code",
   "execution_count": null,
   "id": "fb365edb",
   "metadata": {},
   "outputs": [],
   "source": [
    "text_df.head()"
   ]
  },
  {
   "cell_type": "code",
   "execution_count": null,
   "id": "19ecebb5",
   "metadata": {},
   "outputs": [],
   "source": [
    "fig = plt.figure(figsize=(5,5))\n",
    "sns.countplot(x='sentiment', data = text_df)"
   ]
  },
  {
   "cell_type": "code",
   "execution_count": null,
   "id": "a0b43261",
   "metadata": {},
   "outputs": [],
   "source": [
    "fig = plt.figure(figsize=(7,7))\n",
    "colors = (\"yellowgreen\", \"gold\", \"red\")\n",
    "wp = {'linewidth':2, 'edgecolor':\"black\"}\n",
    "tags = text_df['sentiment'].value_counts()\n",
    "explode = (0.1,0.1,0.1)\n",
    "tags.plot(kind='pie', autopct='%1.1f%%', shadow=True, colors = colors,\n",
    "         startangle=90, wedgeprops = wp, explode = explode, label='')\n",
    "plt.title('Distribution of sentiments')"
   ]
  },
  {
   "cell_type": "code",
   "execution_count": null,
   "id": "6a63ed8f",
   "metadata": {},
   "outputs": [],
   "source": [
    "pos_tweets = text_df[text_df.sentiment == 'Positive']\n",
    "pos_tweets = pos_tweets.sort_values(['polarity'], ascending= False)\n",
    "pos_tweets.head()"
   ]
  },
  {
   "cell_type": "code",
   "execution_count": null,
   "id": "e58295ab",
   "metadata": {},
   "outputs": [],
   "source": [
    "text = ' '.join([word for word in pos_tweets['text']])\n",
    "plt.figure(figsize=(20,15), facecolor='None')\n",
    "wordcloud = WordCloud(max_words=500, width=1600, height=800).generate(text)\n",
    "plt.imshow(wordcloud, interpolation='bilinear')\n",
    "plt.axis(\"off\")\n",
    "plt.title('Most frequent words in positive tweets', fontsize=19)\n",
    "plt.show()"
   ]
  },
  {
   "cell_type": "code",
   "execution_count": null,
   "id": "6e1af924",
   "metadata": {},
   "outputs": [],
   "source": [
    "neg_tweets = text_df[text_df.sentiment == 'Negative']\n",
    "neg_tweets = neg_tweets.sort_values(['polarity'], ascending= False)\n",
    "neg_tweets.head()"
   ]
  },
  {
   "cell_type": "code",
   "execution_count": null,
   "id": "f0f03137",
   "metadata": {},
   "outputs": [],
   "source": [
    "text = ' '.join([word for word in neg_tweets['text']])\n",
    "plt.figure(figsize=(20,15), facecolor='None')\n",
    "wordcloud = WordCloud(max_words=500, width=1600, height=800).generate(text)\n",
    "plt.imshow(wordcloud, interpolation='bilinear')\n",
    "plt.axis(\"off\")\n",
    "plt.title('Most frequent words in negative tweets', fontsize=19)\n",
    "plt.show()"
   ]
  },
  {
   "cell_type": "code",
   "execution_count": null,
   "id": "f5ff9b65",
   "metadata": {},
   "outputs": [],
   "source": [
    "neutral_tweets = text_df[text_df.sentiment == 'Neutral']\n",
    "neutral_tweets = neutral_tweets.sort_values(['polarity'], ascending= False)\n",
    "neutral_tweets.head()"
   ]
  },
  {
   "cell_type": "code",
   "execution_count": null,
   "id": "1b810e30",
   "metadata": {},
   "outputs": [],
   "source": [
    "text = ' '.join([word for word in neutral_tweets['text']])\n",
    "plt.figure(figsize=(20,15), facecolor='None')\n",
    "wordcloud = WordCloud(max_words=500, width=1600, height=800).generate(text)\n",
    "plt.imshow(wordcloud, interpolation='bilinear')\n",
    "plt.axis(\"off\")\n",
    "plt.title('Most frequent words in neutral tweets', fontsize=19)\n",
    "plt.show()"
   ]
  },
  {
   "cell_type": "code",
   "execution_count": null,
   "id": "e76a7555",
   "metadata": {},
   "outputs": [],
   "source": [
    "vect = CountVectorizer(ngram_range=(1,2)).fit(text_df['text'])"
   ]
  },
  {
   "cell_type": "code",
   "execution_count": null,
   "id": "e543ae93",
   "metadata": {},
   "outputs": [],
   "source": [
    "feature_names = vect.get_feature_names()\n",
    "print(\"Number of features: {}\\n\".format(len(feature_names)))\n",
    "print(\"First 20 features:\\n {}\".format(feature_names[:20]))"
   ]
  },
  {
   "cell_type": "code",
   "execution_count": null,
   "id": "d701d313",
   "metadata": {},
   "outputs": [],
   "source": [
    "X = text_df['text']\n",
    "Y = text_df['sentiment']\n",
    "X = vect.transform(X)"
   ]
  },
  {
   "cell_type": "code",
   "execution_count": null,
   "id": "bb2f1ee3",
   "metadata": {},
   "outputs": [],
   "source": [
    "x_train, x_test, y_train, y_test = train_test_split(X, Y, test_size=0.2, random_state=42)"
   ]
  },
  {
   "cell_type": "code",
   "execution_count": null,
   "id": "7c1d81f7",
   "metadata": {},
   "outputs": [],
   "source": [
    "print(\"Size of x_train:\", (x_train.shape))\n",
    "print(\"Size of y_train:\", (y_train.shape))\n",
    "print(\"Size of x_test:\", (x_test.shape))\n",
    "print(\"Size of y_test:\", (y_test.shape))"
   ]
  },
  {
   "cell_type": "code",
   "execution_count": null,
   "id": "2e1bfc3c",
   "metadata": {},
   "outputs": [],
   "source": [
    "import warnings\n",
    "warnings.filterwarnings('ignore')"
   ]
  },
  {
   "cell_type": "code",
   "execution_count": null,
   "id": "7b65b2aa",
   "metadata": {},
   "outputs": [],
   "source": [
    "logreg = LogisticRegression()\n",
    "logreg.fit(x_train, y_train)\n",
    "logreg_pred = logreg.predict(x_test)\n",
    "logreg_acc = accuracy_score(logreg_pred, y_test)\n",
    "print(\"Test accuracy: {:.2f}%\".format(logreg_acc*100))"
   ]
  },
  {
   "cell_type": "code",
   "execution_count": null,
   "id": "3e40e8f6",
   "metadata": {},
   "outputs": [],
   "source": [
    "print(confusion_matrix(y_test, logreg_pred))\n",
    "print(\"\\n\")\n",
    "print(classification_report(y_test, logreg_pred))"
   ]
  },
  {
   "cell_type": "code",
   "execution_count": null,
   "id": "52c7a9b9",
   "metadata": {},
   "outputs": [],
   "source": [
    "style.use('classic')\n",
    "cm = confusion_matrix(y_test, logreg_pred, labels=logreg.classes_)\n",
    "disp = ConfusionMatrixDisplay(confusion_matrix = cm, display_labels=logreg.classes_)\n",
    "disp.plot()"
   ]
  },
  {
   "cell_type": "code",
   "execution_count": null,
   "id": "4d62db55",
   "metadata": {},
   "outputs": [],
   "source": [
    "from sklearn.model_selection import GridSearchCV"
   ]
  },
  {
   "cell_type": "code",
   "execution_count": null,
   "id": "a316d139",
   "metadata": {},
   "outputs": [],
   "source": [
    "param_grid={'C':[0.001, 0.01, 0.1, 1, 10]}\n",
    "grid = GridSearchCV(LogisticRegression(), param_grid)\n",
    "grid.fit(x_train, y_train)"
   ]
  },
  {
   "cell_type": "code",
   "execution_count": null,
   "id": "a4755035",
   "metadata": {},
   "outputs": [],
   "source": [
    "print(\"Best parameters:\", grid.best_params_)"
   ]
  },
  {
   "cell_type": "code",
   "execution_count": null,
   "id": "4537fc22",
   "metadata": {},
   "outputs": [],
   "source": [
    "y_pred = grid.predict(x_test)"
   ]
  },
  {
   "cell_type": "code",
   "execution_count": null,
   "id": "35176a1c",
   "metadata": {},
   "outputs": [],
   "source": [
    "logreg_acc = accuracy_score(y_pred, y_test)\n",
    "print(\"Test accuracy: {:.2f}%\".format(logreg_acc*100))"
   ]
  },
  {
   "cell_type": "code",
   "execution_count": null,
   "id": "2626c65e",
   "metadata": {},
   "outputs": [],
   "source": [
    "print(confusion_matrix(y_test, y_pred))\n",
    "print(\"\\n\")\n",
    "print(classification_report(y_test, y_pred))"
   ]
  },
  {
   "cell_type": "code",
   "execution_count": null,
   "id": "7ec5e8cd",
   "metadata": {},
   "outputs": [],
   "source": [
    "from sklearn.svm import LinearSVC"
   ]
  },
  {
   "cell_type": "code",
   "execution_count": null,
   "id": "80d4d868",
   "metadata": {},
   "outputs": [],
   "source": [
    "SVCmodel = LinearSVC()\n",
    "SVCmodel.fit(x_train, y_train)"
   ]
  },
  {
   "cell_type": "code",
   "execution_count": null,
   "id": "8529e5b5",
   "metadata": {},
   "outputs": [],
   "source": [
    "svc_pred = SVCmodel.predict(x_test)\n",
    "svc_acc = accuracy_score(svc_pred, y_test)\n",
    "print(\"test accuracy: {:.2f}%\".format(svc_acc*100))"
   ]
  },
  {
   "cell_type": "code",
   "execution_count": null,
   "id": "f47ef944",
   "metadata": {},
   "outputs": [],
   "source": [
    "print(confusion_matrix(y_test, svc_pred))\n",
    "print(\"\\n\")\n",
    "print(classification_report(y_test, svc_pred))"
   ]
  },
  {
   "cell_type": "code",
   "execution_count": null,
   "id": "7d875843",
   "metadata": {},
   "outputs": [],
   "source": [
    "grid = {\n",
    "    'C':[0.01, 0.1, 1, 10],\n",
    "    'kernel':[\"linear\",\"poly\",\"rbf\",\"sigmoid\"],\n",
    "    'degree':[1,3,5,7],\n",
    "    'gamma':[0.01,1]\n",
    "}\n",
    "grid = GridSearchCV(SVCmodel, param_grid)\n",
    "grid.fit(x_train, y_train)"
   ]
  },
  {
   "cell_type": "code",
   "execution_count": null,
   "id": "43900fe3",
   "metadata": {},
   "outputs": [],
   "source": [
    "print(\"Best parameter:\", grid.best_params_)"
   ]
  },
  {
   "cell_type": "code",
   "execution_count": null,
   "id": "8b00fb84",
   "metadata": {},
   "outputs": [],
   "source": [
    "y_pred = grid.predict(x_test)"
   ]
  },
  {
   "cell_type": "code",
   "execution_count": null,
   "id": "ffcd3d94",
   "metadata": {},
   "outputs": [],
   "source": [
    "logreg_acc = accuracy_score(y_pred, y_test)\n",
    "print(\"Test accuracy: {:.2f}%\".format(logreg_acc*100))"
   ]
  },
  {
   "cell_type": "code",
   "execution_count": null,
   "id": "e2a21c0d",
   "metadata": {},
   "outputs": [],
   "source": [
    "print(confusion_matrix(y_test, y_pred))\n",
    "print(\"\\n\")\n",
    "print(classification_report(y_test, y_pred))"
   ]
  },
  {
   "cell_type": "markdown",
   "id": "a043ea2d",
   "metadata": {},
   "source": [
    "Additional code to extract data form twitter using twitter api"
   ]
  },
  {
   "cell_type": "code",
   "execution_count": null,
   "id": "39fad192",
   "metadata": {},
   "outputs": [],
   "source": [
    "import tweepy #to access the twitter api\n",
    "import pandas as pd #for basic data operations"
   ]
  },
  {
   "cell_type": "code",
   "execution_count": null,
   "id": "42e2c39a",
   "metadata": {},
   "outputs": [],
   "source": [
    "# Importing the keys from twitter api\n",
    "consumerKey = \"xxxxxxxxxxxxxxxxxxxx\"\n",
    "consumerSecret = \"xxxxxxxxxxxxxxxxxxxx\"\n",
    "accessToken = \"xxxxxxxxxxxxxxxxxxxx\"\n",
    "accessTokenSecret = \"xxxxxxxxxxxxxxxxxxxx\""
   ]
  },
  {
   "cell_type": "code",
   "execution_count": null,
   "id": "aef69224",
   "metadata": {},
   "outputs": [],
   "source": [
    "# Establish the connection with twitter API\n",
    "auth = tweepy.OAuthHandler(consumerKey, consumerSecret)\n",
    "auth.set_access_token(accessToken, accessTokenSecret)\n",
    "api = tweepy.API(auth)"
   ]
  },
  {
   "cell_type": "code",
   "execution_count": null,
   "id": "1b5ef61f",
   "metadata": {},
   "outputs": [],
   "source": [
    "# Search for the Term and define number of tweets \n",
    "searchTerm = input(\"Enter Keyword/Tag to search about: \")\n",
    "NoOfTerms = int(input(\"Enter how many tweets to search: \"))"
   ]
  },
  {
   "cell_type": "code",
   "execution_count": null,
   "id": "5960bc36",
   "metadata": {},
   "outputs": [],
   "source": [
    "# Get no of tweets and searched term together \n",
    "tweets = tweepy.Cursor(api.search, q=searchTerm).items(NoOfTerms)"
   ]
  },
  {
   "cell_type": "code",
   "execution_count": null,
   "id": "b3abd508",
   "metadata": {},
   "outputs": [],
   "source": []
  }
 ],
 "metadata": {
  "kernelspec": {
   "display_name": "Python 3",
   "language": "python",
   "name": "python3"
  },
  "language_info": {
   "codemirror_mode": {
    "name": "ipython",
    "version": 3
   },
   "file_extension": ".py",
   "mimetype": "text/x-python",
   "name": "python",
   "nbconvert_exporter": "python",
   "pygments_lexer": "ipython3",
   "version": "3.13.0"
  }
 },
 "nbformat": 4,
 "nbformat_minor": 5
}
